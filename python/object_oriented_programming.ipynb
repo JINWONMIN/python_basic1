{
 "cells": [
  {
   "cell_type": "markdown",
   "id": "ca687ba2",
   "metadata": {},
   "source": [
    "## object_oriented_programming"
   ]
  },
  {
   "cell_type": "markdown",
   "id": "62944b6c",
   "metadata": {},
   "source": [
    "> Eberything in Python is an object, and almost everything has attributes and methods."
   ]
  },
  {
   "cell_type": "markdown",
   "id": "6d7a7960",
   "metadata": {},
   "source": [
    ": bool, int, float, array, dict, function, module, program, etc. are everything is an object."
   ]
  },
  {
   "cell_type": "markdown",
   "id": "8c7d6cae",
   "metadata": {},
   "source": [
    "1. id"
   ]
  },
  {
   "cell_type": "markdown",
   "id": "4ceb38f3",
   "metadata": {},
   "source": [
    ": 프로그램이 돌아가고 있는 동안 객체의 고유값 반환.<br/>\n",
    "일반적으로 파이썬에서는 메모리 주소를 뜻함."
   ]
  },
  {
   "cell_type": "code",
   "execution_count": 2,
   "id": "a9fbba6c",
   "metadata": {},
   "outputs": [
    {
     "name": "stdout",
     "output_type": "stream",
     "text": [
      "4\n",
      "140331754584464 140331754584464\n"
     ]
    }
   ],
   "source": [
    "# id 값 확인(id는 pc마다 다름.)\n",
    "var = 4 \n",
    "print(var)\n",
    "print(id(var), id(4)) "
   ]
  },
  {
   "cell_type": "markdown",
   "id": "4dd70e10",
   "metadata": {},
   "source": [
    "2. 얕은 복사, 깊은 복사"
   ]
  },
  {
   "cell_type": "code",
   "execution_count": 4,
   "id": "a3d1834f",
   "metadata": {},
   "outputs": [
    {
     "name": "stdout",
     "output_type": "stream",
     "text": [
      "리스트 변수: [1, 2, 3]\n",
      "var 변수: [1, 2, 3]\n",
      "\n",
      "리스트 변수: [1, 2, 3, 4]\n",
      "var 변수: [1, 2, 3, 4]\n",
      "\n",
      "140331683499776 140331683499776\n"
     ]
    }
   ],
   "source": [
    "mylist = [1, 2, 3]\n",
    "var = mylist\n",
    "print(\"리스트 변수:\", mylist)\n",
    "print(\"var 변수:\", var)\n",
    "print()\n",
    "mylist.append(4)\n",
    "print(\"리스트 변수:\", mylist)\n",
    "print(\"var 변수:\", var)\n",
    "print()\n",
    "print(id(mylist), id(var))"
   ]
  },
  {
   "cell_type": "markdown",
   "id": "33181392",
   "metadata": {},
   "source": [
    ":  원본 데이터는 그대로 두고, 참조하는 데이터의 id만을 복사하는 것을 얕은 복사라고 한다."
   ]
  },
  {
   "cell_type": "markdown",
   "id": "6796b863",
   "metadata": {},
   "source": [
    "* 파이썬에서는 모든 것(부울, 정수, 실수, 데이터구조(list,tuple,dict,set...), 함수, 프로그램, 모듈)이 객체다.\n",
    "* 객체는 상태(state)를 나타내는 속성(attribute)과 동작(behavior)을 나타내는 메서드(method)가 있다.\n",
    "* 객체의 속성은 변수로 구현된다. 객체의 메서드는 함수로 구현된다."
   ]
  }
 ],
 "metadata": {
  "kernelspec": {
   "display_name": "Python 3 (ipykernel)",
   "language": "python",
   "name": "python3"
  },
  "language_info": {
   "codemirror_mode": {
    "name": "ipython",
    "version": 3
   },
   "file_extension": ".py",
   "mimetype": "text/x-python",
   "name": "python",
   "nbconvert_exporter": "python",
   "pygments_lexer": "ipython3",
   "version": "3.9.7"
  }
 },
 "nbformat": 4,
 "nbformat_minor": 5
}
