{
 "cells": [
  {
   "cell_type": "markdown",
   "id": "1c65c464",
   "metadata": {},
   "source": [
    "### NumPy"
   ]
  },
  {
   "cell_type": "markdown",
   "id": "af31ee71",
   "metadata": {},
   "source": [
    "* ndarray 만들기\n",
    "    * ndarray 객체는 arange()와 array([])로 만들 수 있음."
   ]
  },
  {
   "cell_type": "markdown",
   "id": "e6220b14",
   "metadata": {},
   "source": [
    "> NumPy를 사용하기 위해 ndarray 객체를 만들어야한다.ndarray 객체를 이용하면 파이썬에서 사용하는 대규모 데이터 집합을 n차원 배열로 담을 수 있다. ndarray를 그냥 array라고 부르기도 한다."
   ]
  },
  {
   "cell_type": "code",
   "execution_count": 1,
   "id": "eaeb68fa",
   "metadata": {},
   "outputs": [
    {
     "name": "stdout",
     "output_type": "stream",
     "text": [
      "[0 1 2 3 4]\n",
      "<class 'numpy.ndarray'>\n",
      "--------------------------\n",
      "[0 1 2 3 4]\n",
      "<class 'numpy.ndarray'>\n",
      "--------------------------\n",
      "['0' '1' '2' '3' '4']\n",
      "<class 'numpy.ndarray'>\n",
      "--------------------------\n",
      "[0 1 2 3 4]\n",
      "<class 'numpy.ndarray'>\n"
     ]
    }
   ],
   "source": [
    "import numpy as np\n",
    "\n",
    "# 아래 A와 B는 결과적으로 같은 ndarray 객체를 생성한다.\n",
    "A = np.arange(5)\n",
    "B = np.array([0, 1, 2, 3, 4]) # 파이썬 리스트를 numpy ndarray로 변환\n",
    "\n",
    "# C는 조금 다름.\n",
    "C = np.array([0, 1, 2, 3, '4'])\n",
    "\n",
    "# D도 A, B와 같은 결과를 내지만, B의 방법 사용빈도가 많음\n",
    "D = np.ndarray((5,), np.int64, np.array([0, 1, 2, 3, 4]))\n",
    "\n",
    "print(A)\n",
    "print(type(A))\n",
    "print(\"--------------------------\")\n",
    "print(B)\n",
    "print(type(B))\n",
    "print(\"--------------------------\")\n",
    "print(C)\n",
    "print(type(C))\n",
    "print(\"--------------------------\")\n",
    "print(D)\n",
    "print(type(D))"
   ]
  },
  {
   "cell_type": "markdown",
   "id": "86b3f96f",
   "metadata": {},
   "source": [
    "> numpy.ndarray도 array이므로 모든 element의 type이 동일해야 합니다. 여기서 파이썬의 유연함이 드러납니다. 문자열을 모두 숫자로 바꿀 수는 없지만 숫자는 모두 문자열로 바꿔 줄 수 있습니다. 그래서 숫자만 있던 ndarray에 문자열이 들어가면 모든 숫자를 문자열로 해석해서 array의 요건을 맞춰줍니다."
   ]
  },
  {
   "cell_type": "markdown",
   "id": "f3ecce34",
   "metadata": {},
   "source": [
    "* 크기 (size, shape, ndim)\n",
    "    * ndarray.size\n",
    "    * ndarray.shape\n",
    "    * ndarray.ndim\n",
    "    * reshape()\n",
    "        * size, shape, ndim는 각각 행렬 내 원소의 개수, 행렬의 모양, 행렬의 축(axis)의 개수를 의미\n",
    "        * reshape() 메서드는 행렬의 모양을 바꿔줌\n",
    "        * 모양을 바꾸기 전후 행렬의 총 원소 개수(size)가 맞아야 한다."
   ]
  },
  {
   "cell_type": "code",
   "execution_count": 3,
   "id": "e996fefe",
   "metadata": {},
   "outputs": [
    {
     "name": "stdout",
     "output_type": "stream",
     "text": [
      "행렬의 모양: (2, 5)\n",
      "행렬의 축 개수: 2\n",
      "행렬 내 원소의 개수: 10\n"
     ]
    },
    {
     "data": {
      "text/plain": [
       "array([[0, 1, 2, 3, 4],\n",
       "       [5, 6, 7, 8, 9]])"
      ]
     },
     "execution_count": 3,
     "metadata": {},
     "output_type": "execute_result"
    }
   ],
   "source": [
    "A = np.arange(10).reshape(2, 5)   # 길이 10의 1차원 행렬을 2X5 2차원 행렬로 바꿈.\n",
    "\n",
    "print(\"행렬의 모양:\", A.shape)\n",
    "print(\"행렬의 축 개수:\", A.ndim)\n",
    "print(\"행렬 내 원소의 개수:\", A.size)\n",
    "A"
   ]
  },
  {
   "cell_type": "code",
   "execution_count": 4,
   "id": "3968adfc",
   "metadata": {},
   "outputs": [
    {
     "name": "stdout",
     "output_type": "stream",
     "text": [
      "A:  [0 1 2 3 4 5 6 7 8 9]\n",
      "B:  [[0 1 2 3 4]\n",
      " [5 6 7 8 9]]\n"
     ]
    },
    {
     "ename": "ValueError",
     "evalue": "cannot reshape array of size 10 into shape (3,3)",
     "output_type": "error",
     "traceback": [
      "\u001b[0;31m---------------------------------------------------------------------------\u001b[0m",
      "\u001b[0;31mValueError\u001b[0m                                Traceback (most recent call last)",
      "\u001b[0;32m/tmp/ipykernel_423/2976122378.py\u001b[0m in \u001b[0;36m<module>\u001b[0;34m\u001b[0m\n\u001b[1;32m      3\u001b[0m \u001b[0mB\u001b[0m \u001b[0;34m=\u001b[0m \u001b[0mnp\u001b[0m\u001b[0;34m.\u001b[0m\u001b[0marange\u001b[0m\u001b[0;34m(\u001b[0m\u001b[0;36m10\u001b[0m\u001b[0;34m)\u001b[0m\u001b[0;34m.\u001b[0m\u001b[0mreshape\u001b[0m\u001b[0;34m(\u001b[0m\u001b[0;36m2\u001b[0m\u001b[0;34m,\u001b[0m\u001b[0;36m5\u001b[0m\u001b[0;34m)\u001b[0m\u001b[0;34m\u001b[0m\u001b[0;34m\u001b[0m\u001b[0m\n\u001b[1;32m      4\u001b[0m \u001b[0mprint\u001b[0m\u001b[0;34m(\u001b[0m\u001b[0;34m'B: '\u001b[0m\u001b[0;34m,\u001b[0m \u001b[0mB\u001b[0m\u001b[0;34m)\u001b[0m\u001b[0;34m\u001b[0m\u001b[0;34m\u001b[0m\u001b[0m\n\u001b[0;32m----> 5\u001b[0;31m \u001b[0mC\u001b[0m \u001b[0;34m=\u001b[0m \u001b[0mnp\u001b[0m\u001b[0;34m.\u001b[0m\u001b[0marange\u001b[0m\u001b[0;34m(\u001b[0m\u001b[0;36m10\u001b[0m\u001b[0;34m)\u001b[0m\u001b[0;34m.\u001b[0m\u001b[0mreshape\u001b[0m\u001b[0;34m(\u001b[0m\u001b[0;36m3\u001b[0m\u001b[0;34m,\u001b[0m\u001b[0;36m3\u001b[0m\u001b[0;34m)\u001b[0m  \u001b[0;31m# 이 줄에서 에러가 날 것입니다.\u001b[0m\u001b[0;34m\u001b[0m\u001b[0;34m\u001b[0m\u001b[0m\n\u001b[0m\u001b[1;32m      6\u001b[0m \u001b[0mprint\u001b[0m\u001b[0;34m(\u001b[0m\u001b[0;34m'C: '\u001b[0m\u001b[0;34m,\u001b[0m \u001b[0mC\u001b[0m\u001b[0;34m)\u001b[0m\u001b[0;34m\u001b[0m\u001b[0;34m\u001b[0m\u001b[0m\n",
      "\u001b[0;31mValueError\u001b[0m: cannot reshape array of size 10 into shape (3,3)"
     ]
    }
   ],
   "source": [
    "A = np.arange(10)\n",
    "print('A: ', A)\n",
    "B = np.arange(10).reshape(2,5)\n",
    "print('B: ', B)\n",
    "C = np.arange(10).reshape(3,3)  # 이 줄에서 에러가 난다.\n",
    "print('C: ', C)"
   ]
  },
  {
   "cell_type": "markdown",
   "id": "505e1708",
   "metadata": {},
   "source": [
    "> 원소의 개수가 행렬과 맞지 않아 에러가 난다."
   ]
  },
  {
   "cell_type": "markdown",
   "id": "0d76d13c",
   "metadata": {},
   "source": [
    "* type\n",
    "    * NumPy: numpy.array.dtype\n",
    "    * 파이썬: type()"
   ]
  },
  {
   "cell_type": "code",
   "execution_count": 5,
   "id": "0a99c58e",
   "metadata": {},
   "outputs": [
    {
     "name": "stdout",
     "output_type": "stream",
     "text": [
      "[[0 1 2]\n",
      " [3 4 5]]\n",
      "int64\n",
      "<class 'numpy.ndarray'>\n",
      "-------------------------\n",
      "[0 1 2 3 4 5]\n",
      "int64\n",
      "<class 'numpy.ndarray'>\n",
      "-------------------------\n",
      "['0' '1' '2' '3' '4' '5']\n",
      "<U21\n",
      "<class 'numpy.ndarray'>\n",
      "-------------------------\n",
      "[0 1 2 3 list([4, 5]) 6]\n",
      "object\n",
      "<class 'numpy.ndarray'>\n"
     ]
    },
    {
     "name": "stderr",
     "output_type": "stream",
     "text": [
      "/tmp/ipykernel_423/130055213.py:19: VisibleDeprecationWarning: Creating an ndarray from ragged nested sequences (which is a list-or-tuple of lists-or-tuples-or ndarrays with different lengths or shapes) is deprecated. If you meant to do this, you must specify 'dtype=object' when creating the ndarray.\n",
      "  D = np.array([0, 1, 2, 3, [4, 5], 6])  # 이런 ndarray도 만들어질까요?\n"
     ]
    }
   ],
   "source": [
    "A= np.arange(6).reshape(2, 3)\n",
    "print(A)\n",
    "print(A.dtype)\n",
    "print(type(A))\n",
    "print(\"-------------------------\")\n",
    "\n",
    "B = np.array([0, 1, 2, 3, 4, 5])  \n",
    "print(B)\n",
    "print(B.dtype)\n",
    "print(type(B))\n",
    "print(\"-------------------------\")\n",
    "\n",
    "C = np.array([0, 1, 2, 3, '4', 5])\n",
    "print(C)\n",
    "print(C.dtype)\n",
    "print(type(C))\n",
    "print(\"-------------------------\")\n",
    "\n",
    "D = np.array([0, 1, 2, 3, [4, 5], 6])  # 이런 ndarray도 만들어질까요?\n",
    "print(D)\n",
    "print(D.dtype)\n",
    "print(type(D))"
   ]
  },
  {
   "cell_type": "markdown",
   "id": "45d50db8",
   "metadata": {},
   "source": [
    " NumPy의 원소는 꼭 동일한 데이터 type이어야 합니다. NumPy의 메서드인 dtype은 NumPy ndarray의 \"원소\"의 데이터 타입을 반환해요.\n",
    "\n",
    "반면에 파이썬 내장함수인 type(A)을 이용하면 행렬 A의 자료형이 반환됩니다.\n",
    "\n",
    "여기서 재미있는 것은 D의 경우입니다. 이번에는 원소 하나를 list 객체로 바꿔 보았습니다. 위의 설명대로라면 NumPy의 원소는 꼭 동일한 데이터 type이어야 하므로 이번만큼은 에러가 날줄 알았는데, 떡하니 정상적으로 ndarray가 만들어집니다. 대신 D.dtype은 object를 리턴했습니다. 파이썬의 최상위 클래스는 바로 object입니다. 그러므로 Numpy는 dtype을 object로 지정해서라도 행렬 내 dtype을 일치시킬 수 있게 됩니다. 다행인 점은 이제 이런 상황을 방지하기 위해서 이런 기능을 deprecate 시켰다는 점이에요.\n",
    "\n",
    "deprecate 라는 것은 이제 더 이상 관리하지 않는 기능을 뜻합니다. 메서드를 deprecate 할 예정일 때는 기능은 성공적으로 실행시키고 error가 아닌 warning 문구로 경고만 해주는데요. 그 기능을 더 이상 못쓰는 것은 아니지만 이제부터 관리를 하지 않을 테니 오류가 날 확률이 높다는 뜻입니다. 일반적으로 어떻게 코드를 수정해야 하는지 알려주니 메시지를 잘 읽어보는 것이 좋습니다. 여기서는 '... you must specify 'dtype=object' when creating the ndarray.' 라고 말해 주었네요. 코드를 작성하는 사람이 dtype을 직접 입력하여 오류를 방지하려는 의도"
   ]
  },
  {
   "cell_type": "code",
   "execution_count": 6,
   "id": "9d8315ee",
   "metadata": {},
   "outputs": [
    {
     "name": "stdout",
     "output_type": "stream",
     "text": [
      "0\n",
      "<class 'numpy.str_'>\n",
      "4\n",
      "<class 'numpy.str_'>\n",
      "------------------------------\n",
      "0\n",
      "<class 'int'>\n",
      "[4, 5]\n",
      "<class 'list'>\n"
     ]
    }
   ],
   "source": [
    "C = np.array([0,1,2,3,'4',5])\n",
    "print(C[0])\n",
    "print(type(C[0]))\n",
    "print(C[4])\n",
    "print(type(C[4]))\n",
    "print(\"------------------------------\")\n",
    "\n",
    "D = np.array([0,1,2,3,[4,5],6], dtype=object)\n",
    "print(D[0])\n",
    "print(type(D[0]))\n",
    "print(D[4])\n",
    "print(type(D[4]))"
   ]
  },
  {
   "cell_type": "markdown",
   "id": "34939d17",
   "metadata": {},
   "source": [
    " * 특수 행렬\n",
    "     * 단위행렬\n",
    "     * 0 행렬\n",
    "     * 1 행렬"
   ]
  },
  {
   "cell_type": "code",
   "execution_count": 7,
   "id": "4fcf5526",
   "metadata": {},
   "outputs": [
    {
     "data": {
      "text/plain": [
       "array([[1., 0., 0.],\n",
       "       [0., 1., 0.],\n",
       "       [0., 0., 1.]])"
      ]
     },
     "execution_count": 7,
     "metadata": {},
     "output_type": "execute_result"
    }
   ],
   "source": [
    "# 단위행렬\n",
    "np.eye(3)"
   ]
  },
  {
   "cell_type": "code",
   "execution_count": 8,
   "id": "d95b81f7",
   "metadata": {},
   "outputs": [
    {
     "data": {
      "text/plain": [
       "array([[0., 0., 0.],\n",
       "       [0., 0., 0.]])"
      ]
     },
     "execution_count": 8,
     "metadata": {},
     "output_type": "execute_result"
    }
   ],
   "source": [
    "# 0 행렬\n",
    "np.zeros([2,3])"
   ]
  },
  {
   "cell_type": "code",
   "execution_count": 9,
   "id": "d5ee07c1",
   "metadata": {},
   "outputs": [
    {
     "data": {
      "text/plain": [
       "array([[1., 1., 1.],\n",
       "       [1., 1., 1.],\n",
       "       [1., 1., 1.]])"
      ]
     },
     "execution_count": 9,
     "metadata": {},
     "output_type": "execute_result"
    }
   ],
   "source": [
    "# 1행렬\n",
    "np.ones([3,3])"
   ]
  },
  {
   "cell_type": "markdown",
   "id": "11d9f68f",
   "metadata": {},
   "source": [
    "* 브로드캐스트\n",
    "    * [NumPy.org](https://numpy.org/devdocs/user/basics.broadcasting.html)"
   ]
  },
  {
   "cell_type": "code",
   "execution_count": 10,
   "id": "3720edb7",
   "metadata": {},
   "outputs": [
    {
     "data": {
      "text/plain": [
       "array([[0, 1, 2],\n",
       "       [3, 4, 5],\n",
       "       [6, 7, 8]])"
      ]
     },
     "execution_count": 10,
     "metadata": {},
     "output_type": "execute_result"
    }
   ],
   "source": [
    "A = np.arange(9).reshape(3,3)\n",
    "A"
   ]
  },
  {
   "cell_type": "code",
   "execution_count": 11,
   "id": "5fc37ebd",
   "metadata": {},
   "outputs": [
    {
     "data": {
      "text/plain": [
       "array([[ 0,  2,  4],\n",
       "       [ 6,  8, 10],\n",
       "       [12, 14, 16]])"
      ]
     },
     "execution_count": 11,
     "metadata": {},
     "output_type": "execute_result"
    }
   ],
   "source": [
    "# ndarray A에 2를 상수배 했을 때,\n",
    "A * 2"
   ]
  },
  {
   "cell_type": "code",
   "execution_count": 12,
   "id": "28865043",
   "metadata": {},
   "outputs": [
    {
     "data": {
      "text/plain": [
       "array([[ 2,  3,  4],\n",
       "       [ 5,  6,  7],\n",
       "       [ 8,  9, 10]])"
      ]
     },
     "execution_count": 12,
     "metadata": {},
     "output_type": "execute_result"
    }
   ],
   "source": [
    "# ndarray A에 2를 더했을 때,\n",
    "A + 2"
   ]
  },
  {
   "cell_type": "code",
   "execution_count": 13,
   "id": "dc62ae6e",
   "metadata": {},
   "outputs": [
    {
     "name": "stdout",
     "output_type": "stream",
     "text": [
      "A: [[0 1 2]\n",
      " [3 4 5]\n",
      " [6 7 8]]\n",
      "B: [1 2 3]\n",
      "\n",
      "A+B: [[ 1  3  5]\n",
      " [ 4  6  8]\n",
      " [ 7  9 11]]\n"
     ]
    }
   ],
   "source": [
    "# 3 X 3 행렬에 1 X 3 행렬을 더했을 때\n",
    "A = np.arange(9).reshape(3,3)\n",
    "B = np.array([1, 2, 3])\n",
    "print(\"A:\", A)\n",
    "print(\"B:\", B)\n",
    "print(\"\\nA+B:\", A+B)"
   ]
  },
  {
   "cell_type": "code",
   "execution_count": 14,
   "id": "5856f759",
   "metadata": {},
   "outputs": [
    {
     "name": "stdout",
     "output_type": "stream",
     "text": [
      "A: [[0 1 2]\n",
      " [3 4 5]\n",
      " [6 7 8]]\n",
      "C: [[1]\n",
      " [2]\n",
      " [3]]\n",
      "\n",
      "A+C: [[ 1  2  3]\n",
      " [ 5  6  7]\n",
      " [ 9 10 11]]\n"
     ]
    }
   ],
   "source": [
    "# 3 X 3 행렬에 3 X 1 행렬을 더했을 때\n",
    "A = np.arange(9).reshape(3,3)\n",
    "C = np.array([[1], [2], [3]])\n",
    "print(\"A:\", A)\n",
    "print(\"C:\", C)\n",
    "print(\"\\nA+C:\", A+C)"
   ]
  },
  {
   "cell_type": "code",
   "execution_count": 15,
   "id": "06608866",
   "metadata": {},
   "outputs": [
    {
     "name": "stdout",
     "output_type": "stream",
     "text": [
      "A: [[0 1 2]\n",
      " [3 4 5]\n",
      " [6 7 8]]\n",
      "D: [1 2]\n"
     ]
    },
    {
     "ename": "ValueError",
     "evalue": "operands could not be broadcast together with shapes (3,3) (2,) ",
     "output_type": "error",
     "traceback": [
      "\u001b[0;31m---------------------------------------------------------------------------\u001b[0m",
      "\u001b[0;31mValueError\u001b[0m                                Traceback (most recent call last)",
      "\u001b[0;32m/tmp/ipykernel_423/3358075234.py\u001b[0m in \u001b[0;36m<module>\u001b[0;34m\u001b[0m\n\u001b[1;32m      4\u001b[0m \u001b[0mprint\u001b[0m\u001b[0;34m(\u001b[0m\u001b[0;34m\"A:\"\u001b[0m\u001b[0;34m,\u001b[0m \u001b[0mA\u001b[0m\u001b[0;34m)\u001b[0m\u001b[0;34m\u001b[0m\u001b[0;34m\u001b[0m\u001b[0m\n\u001b[1;32m      5\u001b[0m \u001b[0mprint\u001b[0m\u001b[0;34m(\u001b[0m\u001b[0;34m\"D:\"\u001b[0m\u001b[0;34m,\u001b[0m \u001b[0mD\u001b[0m\u001b[0;34m)\u001b[0m\u001b[0;34m\u001b[0m\u001b[0;34m\u001b[0m\u001b[0m\n\u001b[0;32m----> 6\u001b[0;31m \u001b[0mprint\u001b[0m\u001b[0;34m(\u001b[0m\u001b[0;34m\"\\nA+D:\"\u001b[0m\u001b[0;34m,\u001b[0m \u001b[0mA\u001b[0m\u001b[0;34m+\u001b[0m\u001b[0mD\u001b[0m\u001b[0;34m)\u001b[0m\u001b[0;34m\u001b[0m\u001b[0;34m\u001b[0m\u001b[0m\n\u001b[0m",
      "\u001b[0;31mValueError\u001b[0m: operands could not be broadcast together with shapes (3,3) (2,) "
     ]
    }
   ],
   "source": [
    "# 3 X 3 행렬에 1 X 2 행렬을 더하는 것은 허용하지 않음. \n",
    "A = np.arange(9).reshape(3,3)\n",
    "D = np.array([1, 2])\n",
    "print(\"A:\", A)\n",
    "print(\"D:\", D)\n",
    "print(\"\\nA+D:\", A+D)"
   ]
  },
  {
   "cell_type": "code",
   "execution_count": 1,
   "id": "1ae73da0",
   "metadata": {},
   "outputs": [
    {
     "name": "stdout",
     "output_type": "stream",
     "text": [
      "[1, 2, 3, 4]\n"
     ]
    },
    {
     "ename": "TypeError",
     "evalue": "can only concatenate list (not \"int\") to list",
     "output_type": "error",
     "traceback": [
      "\u001b[0;31m---------------------------------------------------------------------------\u001b[0m",
      "\u001b[0;31mTypeError\u001b[0m                                 Traceback (most recent call last)",
      "\u001b[0;32m/tmp/ipykernel_461/410015012.py\u001b[0m in \u001b[0;36m<module>\u001b[0;34m\u001b[0m\n\u001b[1;32m      1\u001b[0m \u001b[0mprint\u001b[0m\u001b[0;34m(\u001b[0m\u001b[0;34m[\u001b[0m\u001b[0;36m1\u001b[0m\u001b[0;34m,\u001b[0m\u001b[0;36m2\u001b[0m\u001b[0;34m]\u001b[0m\u001b[0;34m+\u001b[0m\u001b[0;34m[\u001b[0m\u001b[0;36m3\u001b[0m\u001b[0;34m,\u001b[0m\u001b[0;36m4\u001b[0m\u001b[0;34m]\u001b[0m\u001b[0;34m)\u001b[0m\u001b[0;34m\u001b[0m\u001b[0;34m\u001b[0m\u001b[0m\n\u001b[0;32m----> 2\u001b[0;31m \u001b[0mprint\u001b[0m\u001b[0;34m(\u001b[0m\u001b[0;34m[\u001b[0m\u001b[0;36m1\u001b[0m\u001b[0;34m,\u001b[0m\u001b[0;36m2\u001b[0m\u001b[0;34m]\u001b[0m\u001b[0;34m+\u001b[0m\u001b[0;36m3\u001b[0m\u001b[0;34m)\u001b[0m\u001b[0;34m\u001b[0m\u001b[0;34m\u001b[0m\u001b[0m\n\u001b[0m",
      "\u001b[0;31mTypeError\u001b[0m: can only concatenate list (not \"int\") to list"
     ]
    }
   ],
   "source": [
    "print([1,2]+[3,4])\n",
    "print([1,2]+3)"
   ]
  },
  {
   "cell_type": "code",
   "execution_count": 3,
   "id": "1344d84a",
   "metadata": {},
   "outputs": [
    {
     "name": "stdout",
     "output_type": "stream",
     "text": [
      "[4 6]\n",
      "[4 5]\n"
     ]
    }
   ],
   "source": [
    "import numpy as np\n",
    "print(np.array([1,2])+np.array([3,4]))\n",
    "print(np.array([1,2])+3)"
   ]
  },
  {
   "cell_type": "markdown",
   "id": "8fdf837d",
   "metadata": {},
   "source": [
    "> 이렇게 ndarray와 상수, 또는 서로 크기가 다른 ndarray끼리 산술연산이 가능한 기능을 브로드캐스팅이라고 한다. Numpy가 파이썬 내장 리스트와 구별되는 큰 특징 중의 하나"
   ]
  },
  {
   "cell_type": "markdown",
   "id": "4dbb1fe1",
   "metadata": {},
   "source": [
    "* 슬라이스와 인덱싱"
   ]
  },
  {
   "cell_type": "code",
   "execution_count": 4,
   "id": "be30f117",
   "metadata": {},
   "outputs": [
    {
     "name": "stdout",
     "output_type": "stream",
     "text": [
      "A: [[0 1 2]\n",
      " [3 4 5]\n",
      " [6 7 8]]\n",
      "B: [0 1 2]\n",
      "1\n",
      "1\n"
     ]
    },
    {
     "data": {
      "text/plain": [
       "array([[0, 1, 2],\n",
       "       [3, 4, 5]])"
      ]
     },
     "execution_count": 4,
     "metadata": {},
     "output_type": "execute_result"
    }
   ],
   "source": [
    "# 3 X 3 행렬의 첫번째 행을 구한다.\n",
    "A = np.arange(9).reshape(3,3)\n",
    "print(\"A:\", A)\n",
    "B = A[0]\n",
    "print(\"B:\", B)\n",
    "\n",
    "# 0, 1을 인덱싱 하면 A의 첫번째 행에서 두번째 값을 참조.\n",
    "# 아래 두 결과는 정확히 같다\n",
    "print(A[0, 1])\n",
    "print(B[1])\n",
    "\n",
    "# 슬라이싱도 비슷.\n",
    "A[:-1]"
   ]
  },
  {
   "cell_type": "markdown",
   "id": "c8bf5de9",
   "metadata": {},
   "source": [
    "* NumPy 기본 인덱싱 배열"
   ]
  },
  {
   "attachments": {
    "%ED%99%94%EB%A9%B4%20%EC%BA%A1%EC%B2%98%202021-12-31%20122024.jpg": {
     "image/jpeg": "[encoded data removed]"
    }
   },
   "cell_type": "markdown",
   "id": "22d1bed9",
   "metadata": {},
   "source": [
    "![%ED%99%94%EB%A9%B4%20%EC%BA%A1%EC%B2%98%202021-12-31%20122024.jpg](attachment:%ED%99%94%EB%A9%B4%20%EC%BA%A1%EC%B2%98%202021-12-31%20122024.jpg)"
   ]
  },
  {
   "attachments": {
    "%ED%99%94%EB%A9%B4%20%EC%BA%A1%EC%B2%98%202021-12-31%20122042.jpg": {
     "image/jpeg": "[encoded data removed]"
    }
   },
   "cell_type": "markdown",
   "id": "1571663c",
   "metadata": {},
   "source": [
    "![%ED%99%94%EB%A9%B4%20%EC%BA%A1%EC%B2%98%202021-12-31%20122042.jpg](attachment:%ED%99%94%EB%A9%B4%20%EC%BA%A1%EC%B2%98%202021-12-31%20122042.jpg)"
   ]
  },
  {
   "cell_type": "code",
   "execution_count": 5,
   "id": "a8401460",
   "metadata": {},
   "outputs": [
    {
     "name": "stdout",
     "output_type": "stream",
     "text": [
      "[[2]\n",
      " [5]\n",
      " [8]]\n",
      "--------------\n",
      "[[1 2]\n",
      " [4 5]\n",
      " [7 8]]\n",
      "--------------\n",
      "[[0 1 2]\n",
      " [3 4 5]\n",
      " [6 7 8]]\n",
      "--------------\n",
      "[[2]\n",
      " [5]\n",
      " [8]]\n",
      "--------------\n",
      "[[1 2]\n",
      " [4 5]\n",
      " [7 8]]\n",
      "--------------\n",
      "[[0 1 2]\n",
      " [3 4 5]\n",
      " [6 7 8]]\n"
     ]
    }
   ],
   "source": [
    "# 이 슬라이싱의 결과는 \n",
    "print(A[:,2:])\n",
    "print(\"--------------\")\n",
    "print(A[:,1:])\n",
    "print(\"--------------\")\n",
    "print(A[:,:])\n",
    "print(\"--------------\")\n",
    "# 이 슬라이싱의 결과와 동일\n",
    "print(A[:,-1:])\n",
    "print(\"--------------\")\n",
    "print(A[:,-2:])\n",
    "print(\"--------------\")\n",
    "print(A[:,-3:])\n"
   ]
  },
  {
   "cell_type": "markdown",
   "id": "ca242b31",
   "metadata": {},
   "source": [
    "* random\n",
    "    * np.random.randint()\n",
    "    * np.random.choice()\n",
    "    * np.random.permutation()\n",
    "    * np.random.normal()\n",
    "    * np.random.uniform()"
   ]
  },
  {
   "cell_type": "code",
   "execution_count": 6,
   "id": "cbc649fd",
   "metadata": {},
   "outputs": [
    {
     "name": "stdout",
     "output_type": "stream",
     "text": [
      "0.41705708365348226\n",
      "8\n",
      "2\n"
     ]
    }
   ],
   "source": [
    "# 의사 난수 생성 예제\n",
    "\n",
    "print(np.random.random())    # 0에서 1사이의 실수형 난수 하나를 생성\n",
    "\n",
    "print(np.random.randint(0,10))    # 0~9 사이 1개 정수형 난수 하나를 생성\n",
    "\n",
    "print(np.random.choice([0, 1, 2, 3, 4, 5, 6, 7, 8, 9]))    # 리스트에 주어진 값 중 하나를 랜덤하게 초이스"
   ]
  },
  {
   "cell_type": "code",
   "execution_count": 7,
   "id": "3c775b29",
   "metadata": {},
   "outputs": [
    {
     "name": "stdout",
     "output_type": "stream",
     "text": [
      "[8 2 3 9 1 0 4 5 6 7]\n",
      "[2 6 1 8 7 4 5 3 9 0]\n"
     ]
    }
   ],
   "source": [
    "# 무작위로 섞인 배열을 만들어 준다.\n",
    "# 아래 2가지는 기능면에서 동일.\n",
    "\n",
    "print(np.random.permutation(10))\n",
    "print(np.random.permutation([0, 1, 2, 3, 4, 5, 6, 7, 8, 9]))"
   ]
  },
  {
   "cell_type": "code",
   "execution_count": 8,
   "id": "138a0a15",
   "metadata": {},
   "outputs": [
    {
     "name": "stdout",
     "output_type": "stream",
     "text": [
      "[-0.96607161 -2.1618833   0.97830883  0.0312485  -1.02216625]\n",
      "[-0.45824675  0.11454499  0.06207931  0.81539135 -0.99296782]\n"
     ]
    }
   ],
   "source": [
    "# 아래 기능들은 어떤 분포를 따르는 변수를 임의로 표본추출\n",
    "\n",
    "# 정규분포를 따름\n",
    "print(np.random.normal(loc = 0, scale = 1, size = 5))   # 평균(loc), 표준편차(scale), 추출개수(size)\n",
    "\n",
    "# 균등분포를 따름\n",
    "print(np.random.uniform(low = -1, high = 1, size = 5))   # 최소(low), 최대(high), 추출개수(size)\n"
   ]
  },
  {
   "cell_type": "markdown",
   "id": "4a22c545",
   "metadata": {},
   "source": [
    "* 전치행렬: 행렬의 행과 열을 맞바꾸기, 행렬의 축을 서로 바꾸기 등에 사용\n",
    "    * 필수 습득 기능\n",
    "        * arr.T: 행렬의 행과 열 맞바꾸기\n",
    "        * np.transpose: 축을 기준으로 행렬의 행과 열 바꾸기"
   ]
  },
  {
   "cell_type": "code",
   "execution_count": 9,
   "id": "9ce5b25a",
   "metadata": {},
   "outputs": [
    {
     "name": "stdout",
     "output_type": "stream",
     "text": [
      "A: [[[ 0  1  2  3]\n",
      "  [ 4  5  6  7]\n",
      "  [ 8  9 10 11]]\n",
      "\n",
      " [[12 13 14 15]\n",
      "  [16 17 18 19]\n",
      "  [20 21 22 23]]]\n",
      "A의 전치행렬: [[[ 0 12]\n",
      "  [ 4 16]\n",
      "  [ 8 20]]\n",
      "\n",
      " [[ 1 13]\n",
      "  [ 5 17]\n",
      "  [ 9 21]]\n",
      "\n",
      " [[ 2 14]\n",
      "  [ 6 18]\n",
      "  [10 22]]\n",
      "\n",
      " [[ 3 15]\n",
      "  [ 7 19]\n",
      "  [11 23]]]\n",
      "A의 전치행렬의 shape: (4, 3, 2)\n"
     ]
    }
   ],
   "source": [
    "A = np.arange(24).reshape(2, 3, 4)\n",
    "print(\"A:\", A)\n",
    "print(\"A의 전치행렬:\", A.T)\n",
    "print(\"A의 전치행렬의 shape:\", A.T.shape)"
   ]
  },
  {
   "cell_type": "code",
   "execution_count": 10,
   "id": "853750bf",
   "metadata": {},
   "outputs": [
    {
     "name": "stdout",
     "output_type": "stream",
     "text": [
      "A: [[[ 0  1  2  3]\n",
      "  [ 4  5  6  7]\n",
      "  [ 8  9 10 11]]\n",
      "\n",
      " [[12 13 14 15]\n",
      "  [16 17 18 19]\n",
      "  [20 21 22 23]]]\n",
      "B: [[[ 0  4  8]\n",
      "  [12 16 20]]\n",
      "\n",
      " [[ 1  5  9]\n",
      "  [13 17 21]]\n",
      "\n",
      " [[ 2  6 10]\n",
      "  [14 18 22]]\n",
      "\n",
      " [[ 3  7 11]\n",
      "  [15 19 23]]]\n",
      "B.shape: (4, 2, 3)\n"
     ]
    }
   ],
   "source": [
    "# np.transpose는 행렬의 축을 어떻게 변환해 줄지 임의로 지정해 줄 수 있는 일반적인 행렬 전치 함수이다.\n",
    "# np.transpose(A, (2, 1, 0)) 은 A.T와 정확히 같다.\n",
    "\n",
    "B = np.transpose(A, (2, 0, 1))\n",
    "print(\"A:\", A)\n",
    "print(\"B:\", B)   # B는 A의 3, 1, 2번째 축을 자신의 1, 2, 3번째 축으로 가진 행렬\n",
    "print(\"B.shape:\", B.shape)"
   ]
  },
  {
   "cell_type": "code",
   "execution_count": null,
   "id": "29a290e4",
   "metadata": {},
   "outputs": [],
   "source": []
  }
 ],
 "metadata": {
  "kernelspec": {
   "display_name": "Python 3 (ipykernel)",
   "language": "python",
   "name": "python3"
  },
  "language_info": {
   "codemirror_mode": {
    "name": "ipython",
    "version": 3
   },
   "file_extension": ".py",
   "mimetype": "text/x-python",
   "name": "python",
   "nbconvert_exporter": "python",
   "pygments_lexer": "ipython3",
   "version": "3.9.7"
  }
 },
 "nbformat": 4,
 "nbformat_minor": 5
}
