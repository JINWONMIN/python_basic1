{
 "cells": [
  {
   "cell_type": "markdown",
   "id": "32c91e80",
   "metadata": {},
   "source": [
    "### Data Expression: Array and Table\n",
    "\n",
    "##### 기본 통계 데이터 계산"
   ]
  },
  {
   "cell_type": "markdown",
   "id": "944b3f4f",
   "metadata": {},
   "source": [
    "* 평균 계산"
   ]
  },
  {
   "cell_type": "code",
   "execution_count": 3,
   "id": "86c84e62",
   "metadata": {},
   "outputs": [
    {
     "name": "stdout",
     "output_type": "stream",
     "text": [
      "Enter a number :  (<Enter Key> to quit)16\n",
      "Enter a number :  (<Enter Key> to quit)61\n",
      "Enter a number :  (<Enter Key> to quit)15\n",
      "Enter a number :  (<Enter Key> to quit)64\n",
      "Enter a number :  (<Enter Key> to quit)156\n",
      "Enter a number :  (<Enter Key> to quit)dasdf\n",
      "NOT a number! Ignored..\n",
      "Enter a number :  (<Enter Key> to quit)16\n",
      "Enter a number :  (<Enter Key> to quit)15\n",
      "Enter a number :  (<Enter Key> to quit)\n",
      "\n",
      " average is 49.0\n"
     ]
    }
   ],
   "source": [
    "total = 0\n",
    "count = 0\n",
    "numbers = input(\"Enter a number :  (<Enter Key> to quit)\")\n",
    "while numbers != \"\":\n",
    "    try:\n",
    "        x = float(numbers)\n",
    "        count += 1\n",
    "        total = total + x\n",
    "    except ValueError:\n",
    "        print('NOT a number! Ignored..')\n",
    "    numbers = input(\"Enter a number :  (<Enter Key> to quit)\")\n",
    "avg = total / count\n",
    "print(\"\\n average is\", avg)"
   ]
  },
  {
   "cell_type": "markdown",
   "id": "1663ed46",
   "metadata": {},
   "source": [
    "* 평균 계산을 위해 숫자 여러 개를 input 받았지만, 여러 개의 숫자를 배열로 저장하지 않음."
   ]
  },
  {
   "cell_type": "markdown",
   "id": "f4cc6291",
   "metadata": {},
   "source": [
    "> 평균 수식"
   ]
  },
  {
   "attachments": {
    "%ED%99%94%EB%A9%B4%20%EC%BA%A1%EC%B2%98%202021-12-31%20101934.jpg": {
     "image/jpeg": "[encoded data removed]"
    }
   },
   "cell_type": "markdown",
   "id": "7cc5e6a3",
   "metadata": {},
   "source": [
    "![%ED%99%94%EB%A9%B4%20%EC%BA%A1%EC%B2%98%202021-12-31%20101934.jpg](attachment:%ED%99%94%EB%A9%B4%20%EC%BA%A1%EC%B2%98%202021-12-31%20101934.jpg)"
   ]
  },
  {
   "cell_type": "markdown",
   "id": "68afa196",
   "metadata": {},
   "source": [
    "* 배열을 활용한 평균, 표준편차, 중앙값 계산"
   ]
  },
  {
   "cell_type": "markdown",
   "id": "a6e38c29",
   "metadata": {},
   "source": [
    "> 표준편차 수식"
   ]
  },
  {
   "attachments": {
    "%ED%99%94%EB%A9%B4%20%EC%BA%A1%EC%B2%98%202021-12-31%20102135.jpg": {
     "image/jpeg": "[encoded data removed]"
    }
   },
   "cell_type": "markdown",
   "id": "df769f58",
   "metadata": {},
   "source": [
    "![%ED%99%94%EB%A9%B4%20%EC%BA%A1%EC%B2%98%202021-12-31%20102135.jpg](attachment:%ED%99%94%EB%A9%B4%20%EC%BA%A1%EC%B2%98%202021-12-31%20102135.jpg)"
   ]
  },
  {
   "cell_type": "markdown",
   "id": "b218b44a",
   "metadata": {},
   "source": [
    "s는 표준편차(std), xi는 '입력받은 숫자들', n은 '입력받은 샘플의 개수', x바는 평균.\n",
    "<br/>\n",
    "std를 구하기 위해선 S에서 평균을 뺀 값이 필요\n",
    "<br/>\n",
    "리스트를 활용하여 데이터 값 전체를 하나의 객체에 순서대로 모아서 사용"
   ]
  },
  {
   "cell_type": "markdown",
   "id": "955d24db",
   "metadata": {},
   "source": [
    "> 리스트 활용"
   ]
  },
  {
   "cell_type": "code",
   "execution_count": 7,
   "id": "b9f65390",
   "metadata": {},
   "outputs": [
    {
     "data": {
      "text/plain": [
       "['x1', 'x2', 'x4', '...xn']"
      ]
     },
     "execution_count": 7,
     "metadata": {},
     "output_type": "execute_result"
    }
   ],
   "source": [
    "X = ['x1', 'x2', 'x4','...xn']\n",
    "X"
   ]
  },
  {
   "attachments": {
    "%ED%99%94%EB%A9%B4%20%EC%BA%A1%EC%B2%98%202021-12-31%20103203.jpg": {
     "image/jpeg": "[encoded data removed]"
    }
   },
   "cell_type": "markdown",
   "id": "b7ea5d37",
   "metadata": {},
   "source": [
    "![%ED%99%94%EB%A9%B4%20%EC%BA%A1%EC%B2%98%202021-12-31%20103203.jpg](attachment:%ED%99%94%EB%A9%B4%20%EC%BA%A1%EC%B2%98%202021-12-31%20103203.jpg)"
   ]
  },
  {
   "cell_type": "markdown",
   "id": "ac796666",
   "metadata": {},
   "source": [
    "* 사용자가 입력한 숫자들을 배열로 만들기"
   ]
  },
  {
   "cell_type": "code",
   "execution_count": 9,
   "id": "71a318ee",
   "metadata": {},
   "outputs": [
    {
     "name": "stdout",
     "output_type": "stream",
     "text": [
      "Enter a number (<Enter Key> to quit)6161\n",
      "Enter a number (<Enter Key> to quit)1515\n",
      "Enter a number (<Enter Key> to quit)\n"
     ]
    },
    {
     "data": {
      "text/plain": [
       "[6161.0, 1515.0]"
      ]
     },
     "execution_count": 9,
     "metadata": {},
     "output_type": "execute_result"
    }
   ],
   "source": [
    "# 2개 이상의 숫자를 입력받아 리스트에 저장하는 함수\n",
    "def numbers():\n",
    "    X = [] \n",
    "    while True:\n",
    "        number = input(\"Enter a number (<Enter Key> to quit)\")\n",
    "        while number != \"\":\n",
    "            try:\n",
    "                x = float(number)\n",
    "                X.append(x)\n",
    "            except ValueError:\n",
    "                print('>>> NOT a number! lgnored..')\n",
    "            number = input(\"Enter a number (<Enter Key> to quit)\")\n",
    "        if len(X) > 1 :   # 저장된 숫자가 2개 이상일 때만 리턴\n",
    "            return X\n",
    "        \n",
    "X = numbers()\n",
    "X"
   ]
  },
  {
   "cell_type": "markdown",
   "id": "2b6c3c44",
   "metadata": {},
   "source": [
    "> 파이썬 리스트는 동적 배열(Dynamic Array): 파이썬의 리스트는 임의의 데이터 타입을 담을 수 있는 가변적 연속열(Sequence)형"
   ]
  },
  {
   "cell_type": "markdown",
   "id": "ed32f5d4",
   "metadata": {},
   "source": [
    "> 개념 정리\n",
    ">> Sequence형 데이터의 자료구조를 array로 지칭했지만 정확하게 개념을 구분하자면, 선형적 데이터를 다루는 자료구조인 list와 array는 조금 다르다."
   ]
  },
  {
   "cell_type": "code",
   "execution_count": 11,
   "id": "af319355",
   "metadata": {},
   "outputs": [
    {
     "name": "stdout",
     "output_type": "stream",
     "text": [
      "<class 'list'>\n",
      "[1, 2, 3, '4']\n",
      "[1, 5, 2, 3, '4']\n",
      "<class 'array.array'>\n",
      "array('f', [1.0, 2.0, 3.0])\n",
      "array('f', [1.0, 5.0, 2.0, 3.0])\n"
     ]
    }
   ],
   "source": [
    "import array as arr\n",
    "\n",
    "mylist = [1, 2, 3]   # 이것은 파이썬 built-in list\n",
    "print(type(mylist))\n",
    "\n",
    "mylist.append('4')  # mylist의 끝에 character '4'를 추가. \n",
    "print(mylist)\n",
    "\n",
    "mylist.insert(1, 5)  # mylist의 두번째 자리에 5를 끼움\n",
    "print(mylist)\n",
    "\n",
    "myarray = arr.array('f', [1, 2, 3])   # array. import array를 해야 쓸 수 있음\n",
    "print(type(myarray))\n",
    "\n",
    "# 아래 라인의 주석을 풀고 실행하면 에러가 난다.\n",
    "#myarray.append('4')    # myarray의 끝에 character '4'를 추가. \n",
    "print(myarray)\n",
    "\n",
    "myarray.insert(1, 5)    # myarray의 두번째 자리에 5를 끼움.\n",
    "print(myarray)"
   ]
  },
  {
   "cell_type": "markdown",
   "id": "3e13450d",
   "metadata": {},
   "source": [
    "> 파이썬에서 built-in 으로 제공하는 list와 array의 차이"
   ]
  },
  {
   "cell_type": "markdown",
   "id": "fdb1ab60",
   "metadata": {},
   "source": [
    "* ist는 별도의 import가 필요 없지만 array를 사용하기 위해서는 import 해주어야 합니다. 파이썬에서 array는 built-in이 아닙니다.\n",
    "* list 안의 element 사이에 다른 타입의 자료형이 허용됩니다. 숫자로만 이루어진 list에 문자열 element를 추가할 수 있습니다. 그러나 array는 처음부터 element의 유형을 지정해서 생성하며, 지정되지 않은 다른 타입의 element 추가가 허용되지 않습니다. 이러한 array의 특성은 다음에 나오는 NumPy에도 동일하게 적용됩니다.\n",
    "* array는 element들이 연속된 메모리 공간에 배치되며, 모든 element들이 동일한 크기와 타입을 가져야 합니다. 그러므로 위에서 myarray.append('4')는 허용되지 않습니다."
   ]
  },
  {
   "cell_type": "markdown",
   "id": "48e628b2",
   "metadata": {},
   "source": [
    "* 리스트를 활용한 시그마의 표현"
   ]
  },
  {
   "attachments": {
    "%ED%99%94%EB%A9%B4%20%EC%BA%A1%EC%B2%98%202021-12-31%20105225.jpg": {
     "image/jpeg": "[encoded data removed]"
    }
   },
   "cell_type": "markdown",
   "id": "4c227ec4",
   "metadata": {},
   "source": [
    "![%ED%99%94%EB%A9%B4%20%EC%BA%A1%EC%B2%98%202021-12-31%20105225.jpg](attachment:%ED%99%94%EB%A9%B4%20%EC%BA%A1%EC%B2%98%202021-12-31%20105225.jpg)"
   ]
  },
  {
   "cell_type": "code",
   "execution_count": 13,
   "id": "678c6660",
   "metadata": {},
   "outputs": [
    {
     "name": "stdout",
     "output_type": "stream",
     "text": [
      "sum of X: 7676.0\n"
     ]
    }
   ],
   "source": [
    "total = 0.0\n",
    "for i in range(len(X)):\n",
    "    total = total + X[i]\n",
    "mean = total / len(X)\n",
    "\n",
    "print('sum of X:', total)"
   ]
  },
  {
   "cell_type": "markdown",
   "id": "5421b852",
   "metadata": {},
   "source": [
    "* 중앙값\n",
    "    * 주어진 숫자를 크기 순서대로 배치할 때 가장 중아에 위치하는 숫자\n",
    "        * 만약 숫자가  1, 3, 3, 6, 7, 8, 9 라면, 중앙값은 6\n",
    "        * 만약 숫자가 1, 3, 3, 7, 8, 9 라면, 중앙값은 (3 + 7) / 2 = 5\n",
    "    * 총개수 n인 숫자를 순서대로 배열했을 때,\n",
    "        * n이 홀수이면 n/2을 반올림한 순서의 값이 중앙값\n",
    "        * 이 짝수라면 n/2번째 값과 ((n/2) + 1) 번째 값의 평균"
   ]
  },
  {
   "cell_type": "code",
   "execution_count": 14,
   "id": "271a1d34",
   "metadata": {},
   "outputs": [
    {
     "name": "stdout",
     "output_type": "stream",
     "text": [
      "X : [6161.0, 1515.0]\n"
     ]
    },
    {
     "data": {
      "text/plain": [
       "3838.0"
      ]
     },
     "execution_count": 14,
     "metadata": {},
     "output_type": "execute_result"
    }
   ],
   "source": [
    "def median(nums):\n",
    "    nums.sort()\n",
    "    size = len(nums)\n",
    "    p = size // 2    # // 나누기 연산 후 소수점 이하의 수를 버리고, 정수 부분의 수만 구함.\n",
    "    if size % 2 == 0:\n",
    "        pr = p\n",
    "        pl = p - 1\n",
    "        mid = float((nums[pl]+nums[pr])/2)\n",
    "    else:\n",
    "        mid = nums[p]\n",
    "    return mid\n",
    "\n",
    "print('X :', X)\n",
    "median(X)"
   ]
  },
  {
   "cell_type": "markdown",
   "id": "86c4473b",
   "metadata": {},
   "source": [
    "* 표준편차와 평균"
   ]
  },
  {
   "cell_type": "code",
   "execution_count": 17,
   "id": "9f3ba90a",
   "metadata": {},
   "outputs": [
    {
     "data": {
      "text/plain": [
       "3838.0"
      ]
     },
     "execution_count": 17,
     "metadata": {},
     "output_type": "execute_result"
    }
   ],
   "source": [
    "def means(nums):\n",
    "    total = 0.0\n",
    "    for i in range(len(nums)):\n",
    "        total = total + nums[i]\n",
    "    return total / len(nums)\n",
    "\n",
    "means(X)"
   ]
  },
  {
   "cell_type": "code",
   "execution_count": 18,
   "id": "89a64346",
   "metadata": {},
   "outputs": [
    {
     "data": {
      "text/plain": [
       "2323.0"
      ]
     },
     "execution_count": 18,
     "metadata": {},
     "output_type": "execute_result"
    }
   ],
   "source": [
    "avg = means(X)\n",
    "\n",
    "def std_dev(nums, avg):\n",
    "    texp = 0.0\n",
    "    for i in range(len(nums)):\n",
    "        texp = texp + (nums[i] - avg)**2 # 각 숫자와 평균값의 차이의 제곱을 계속 더한 후\n",
    "    return (texp/len(nums)) ** 0.5 # 그 총합을 숫자개수로 나눈 값의 제곱근을 리턴\n",
    "\n",
    "std_dev(X, avg)"
   ]
  },
  {
   "cell_type": "markdown",
   "id": "79e64e1e",
   "metadata": {},
   "source": [
    "* 전체 코드: main()\n",
    "    * 구현하고자 하는 값은 사용자가 입력한 숫자들에 대한 평균값, 중앙값, 표준편차\n",
    "    * 우선 사용자가 입력한 숫자를 배열(리스트)로 만든다.\n",
    "    * 각 숫자의 평균값과 중앙값을 구한다.\n",
    "    *  숫자의 표준편차를 구한다."
   ]
  },
  {
   "cell_type": "code",
   "execution_count": 19,
   "id": "c1b11840",
   "metadata": {},
   "outputs": [
    {
     "name": "stdout",
     "output_type": "stream",
     "text": [
      "Enter a number (<Enter key> to quit)20\n",
      "Enter a number (<Enter key> to quit)30\n",
      "Enter a number (<Enter key> to quit)51\n",
      "Enter a number (<Enter key> to quit)19\n",
      "Enter a number (<Enter key> to quit)84\n",
      "Enter a number (<Enter key> to quit)79\n",
      "Enter a number (<Enter key> to quit)61\n",
      "Enter a number (<Enter key> to quit)\n",
      "당신이 입력한 숫자[19.0, 20.0, 30.0, 51.0, 61.0, 79.0, 84.0]의 \n",
      "중앙값은51.0, 평균은49.142857142857146, 표준편차는24.999591833402693입니다.\n"
     ]
    }
   ],
   "source": [
    "def numbers():\n",
    "    X=[]\n",
    "    while True:\n",
    "        number = input(\"Enter a number (<Enter key> to quit)\") \n",
    "        while number !=\"\":\n",
    "            try:\n",
    "                x = float(number)\n",
    "                X.append(x)\n",
    "            except ValueError:\n",
    "                print('>>> NOT a number! Ignored..')\n",
    "            number = input(\"Enter a number (<Enter key> to quit)\")\n",
    "        if len(X) > 1:\n",
    "            return X\n",
    "\n",
    "def median(nums): \n",
    "    nums.sort()\n",
    "    size = len(nums)\n",
    "    p = size // 2\n",
    "    if size % 2 == 0:\n",
    "        pr = p\n",
    "        pl = p-1\n",
    "        mid = float((nums[pl]+nums[pr])/2)\n",
    "    else:\n",
    "        mid = nums[p]\n",
    "    return mid\n",
    "\n",
    "def means(nums):\n",
    "    total = 0.0\n",
    "    for i in range(len(nums)):\n",
    "        total = total + nums[i]\n",
    "    return total / len(nums)\n",
    "\n",
    "def std_dev(nums, avg):\n",
    "   texp = 0.0\n",
    "   for i in range(len(nums)):\n",
    "       texp = texp + (nums[i] - avg) ** 2\n",
    "   return (texp/len(nums)) ** 0.5\n",
    "\n",
    "def main():\n",
    "    X = numbers()\n",
    "    med = median(X)\n",
    "    avg = means(X)\n",
    "    std = std_dev(X, avg)\n",
    "    print(\"당신이 입력한 숫자{}의 \".format(X))\n",
    "    print(\"중앙값은{}, 평균은{}, 표준편차는{}입니다.\".format(med, avg, std))\n",
    "\n",
    "if __name__ == '__main__':\n",
    "    main()"
   ]
  },
  {
   "cell_type": "code",
   "execution_count": null,
   "id": "80d72040",
   "metadata": {},
   "outputs": [],
   "source": []
  }
 ],
 "metadata": {
  "kernelspec": {
   "display_name": "Python 3 (ipykernel)",
   "language": "python",
   "name": "python3"
  },
  "language_info": {
   "codemirror_mode": {
    "name": "ipython",
    "version": 3
   },
   "file_extension": ".py",
   "mimetype": "text/x-python",
   "name": "python",
   "nbconvert_exporter": "python",
   "pygments_lexer": "ipython3",
   "version": "3.9.7"
  }
 },
 "nbformat": 4,
 "nbformat_minor": 5
}
